{
  "cells": [
    {
      "cell_type": "code",
      "execution_count": null,
      "metadata": {
        "collapsed": false
      },
      "outputs": [],
      "source": [
        "%matplotlib inline"
      ]
    },
    {
      "cell_type": "markdown",
      "metadata": {},
      "source": [
        "\n# Phase Function Decomposition\n\nDecompose a phase function into Legendre coefficients.\n"
      ]
    },
    {
      "cell_type": "markdown",
      "metadata": {},
      "source": [
        "First import everything needed for this example.\n\n"
      ]
    },
    {
      "cell_type": "code",
      "execution_count": null,
      "metadata": {
        "collapsed": false
      },
      "outputs": [],
      "source": [
        "from pathlib import Path\nimport matplotlib.pyplot as plt\nimport numpy as np\nimport pyrt"
      ]
    },
    {
      "cell_type": "markdown",
      "metadata": {},
      "source": [
        "Let's grab a phase function and the angles over which it's defined. The phase\nfunction has shape (181, 24, 317), where it's defined over 181 scattering\nangles, 24 particle sizes, and 317 wavelengths. For this example, let's just\npick the first one so we have an array to work with.\n\n"
      ]
    },
    {
      "cell_type": "code",
      "execution_count": null,
      "metadata": {
        "collapsed": false
      },
      "outputs": [],
      "source": [
        "dust_dir = '/home/kyle/repos/pyRT_DISORT/anc/mars_dust/'\nphase_function = np.load(dust_dir + 'phase_function.npy')[:, 0, 0]\nscattering_angles = np.load(dust_dir + 'scattering_angles.npy')\nprint(scattering_angles)"
      ]
    },
    {
      "cell_type": "markdown",
      "metadata": {},
      "source": [
        "Let's put these into a :class:`~pyrt.PhaseFunction` object. This object\nensures the phase function and scattering angles look plausible and provides\nmethods to manipulate these arrays.\n\n"
      ]
    },
    {
      "cell_type": "code",
      "execution_count": null,
      "metadata": {
        "collapsed": false
      },
      "outputs": [],
      "source": [
        "pf = pyrt.PhaseFunction(phase_function, np.radians(scattering_angles))"
      ]
    },
    {
      "cell_type": "markdown",
      "metadata": {},
      "source": [
        "The scattering angles are defined each degree. Let's double the resolution\nof the arrays by resampling them.\n\n"
      ]
    },
    {
      "cell_type": "code",
      "execution_count": null,
      "metadata": {
        "collapsed": false
      },
      "outputs": [],
      "source": [
        "pf.resample(362)\nprint(pf.phase_function.shape, pf.scattering_angles.shape)"
      ]
    },
    {
      "cell_type": "markdown",
      "metadata": {},
      "source": [
        "We can now decompose the phase function. This method normalizes the phase\nfunction and creates a :class:`~pyrt.LegendreCoefficients` object that acts\njust like a np.ndarray but with some methods. Let's decompose this phase\nfunction into 129 moments and look at the moments.\n\n"
      ]
    },
    {
      "cell_type": "code",
      "execution_count": null,
      "metadata": {
        "collapsed": false
      },
      "outputs": [],
      "source": [
        "lc = pf.decompose(129)\nprint(lc)"
      ]
    },
    {
      "cell_type": "markdown",
      "metadata": {},
      "source": [
        "At index 7 the coefficient is negative, and it appears the coefficients\noscillate around 0 after this. Let's set these to 0.\n\n"
      ]
    },
    {
      "cell_type": "code",
      "execution_count": null,
      "metadata": {
        "collapsed": false
      },
      "outputs": [],
      "source": [
        "lc.set_negative_coefficients_to_0()"
      ]
    },
    {
      "cell_type": "markdown",
      "metadata": {},
      "source": [
        "This object can also convert back into a phase function. Let's do that and\nplot how the fit performed.\n\n"
      ]
    },
    {
      "cell_type": "code",
      "execution_count": null,
      "metadata": {
        "collapsed": false
      },
      "outputs": [],
      "source": [
        "reconstructed_pf = lc.reconstruct_phase_function()\n\nplt.rc('mathtext', fontset='stix')\nplt.rc('font', **{'family': 'STIXGeneral'})\nplt.rc('font', size=8)\nplt.rc('axes', titlesize=12)\nplt.rc('axes', labelsize=12)\nplt.rc('xtick', labelsize=12)\nplt.rc('ytick', labelsize=12)\nplt.rc('legend', fontsize=12)\nplt.rc('figure', titlesize=12)\nplt.rc('pdf', fonttype=42)\nplt.rc('ps', fonttype=42)\nplt.rc('lines', linewidth=0.5)\nplt.rc('axes', linewidth=0.5)\nplt.rc('xtick.major', width=0.5)\nplt.rc('xtick.minor', width=0.5)\nplt.rc('ytick.major', width=0.5)\nplt.rc('ytick.minor', width=0.5)\ndpi = 150\n\nfig, ax = plt.subplots()\nax.plot(np.degrees(pf.scattering_angles), pf.phase_function,\n        color='k',\n        label='Original phase function')\nax.plot(np.degrees(reconstructed_pf.scattering_angles), reconstructed_pf.phase_function,\n        color='r',\n        label='Reconstructed phase function',\n        linestyle='dotted')\nplt.legend()\nax.set_xlim(0, 180)\nax.set_xlabel('Scattering Angle [degrees]')\nax.set_ylabel('Phase Function')\nax.set_xticks(np.linspace(0, 180, num=180//30+1))\nax.set_xticks(np.linspace(0, 180, num=180//10+1), minor=True)\nplt.show()"
      ]
    }
  ],
  "metadata": {
    "kernelspec": {
      "display_name": "Python 3",
      "language": "python",
      "name": "python3"
    },
    "language_info": {
      "codemirror_mode": {
        "name": "ipython",
        "version": 3
      },
      "file_extension": ".py",
      "mimetype": "text/x-python",
      "name": "python",
      "nbconvert_exporter": "python",
      "pygments_lexer": "ipython3",
      "version": "3.9.10"
    }
  },
  "nbformat": 4,
  "nbformat_minor": 0
}