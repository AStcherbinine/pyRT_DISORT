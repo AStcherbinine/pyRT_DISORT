{
  "cells": [
    {
      "cell_type": "code",
      "execution_count": null,
      "metadata": {
        "collapsed": false
      },
      "outputs": [],
      "source": [
        "%matplotlib inline"
      ]
    },
    {
      "cell_type": "markdown",
      "metadata": {},
      "source": [
        "\n# Fit Asymmetry Parameter\n\nFit an asymmetry parameter to a phase function and plot the Henyey-Greenstein\nphase function.\n"
      ]
    },
    {
      "cell_type": "markdown",
      "metadata": {},
      "source": [
        "First import everything needed for this example.\n\n"
      ]
    },
    {
      "cell_type": "code",
      "execution_count": null,
      "metadata": {
        "collapsed": false
      },
      "outputs": [],
      "source": [
        "import matplotlib.pyplot as plt\nimport numpy as np\nimport pyrt"
      ]
    },
    {
      "cell_type": "markdown",
      "metadata": {},
      "source": [
        "Let's grab a strongly forward scattering phase function and the angles over\nwhich it is defined.\n\n"
      ]
    },
    {
      "cell_type": "code",
      "execution_count": null,
      "metadata": {
        "collapsed": false
      },
      "outputs": [],
      "source": [
        "dust_dir = '/home/kyle/repos/pyRT_DISORT/anc/mars_dust/'\nphase_function = np.load(dust_dir + 'phase_function.npy')[:, 23, 0]\nscattering_angles = np.load(dust_dir + 'scattering_angles.npy')"
      ]
    },
    {
      "cell_type": "markdown",
      "metadata": {},
      "source": [
        "Fit an asymmetry parameter to this phase function.\n\n"
      ]
    },
    {
      "cell_type": "code",
      "execution_count": null,
      "metadata": {
        "collapsed": false
      },
      "outputs": [],
      "source": [
        "g = pyrt.fit_asymmetry_parameter(phase_function, scattering_angles)\nprint(g)"
      ]
    },
    {
      "cell_type": "markdown",
      "metadata": {},
      "source": [
        "We can construct a Henyey-Greenstein phase function from this asymmetry\nparameter. Let's do this, multiply by 4*pi since the\nHenyey-Greenstein phase function is normalized to 1, and see how well it\nmatches the original phase function.\n\n"
      ]
    },
    {
      "cell_type": "code",
      "execution_count": null,
      "metadata": {
        "collapsed": false
      },
      "outputs": [],
      "source": [
        "hg_pf = pyrt.construct_hg(g, scattering_angles) * 4 * np.pi\n\nplt.rc('mathtext', fontset='stix')\nplt.rc('font', **{'family': 'STIXGeneral'})\nplt.rc('font', size=8)\nplt.rc('axes', titlesize=12)\nplt.rc('axes', labelsize=12)\nplt.rc('xtick', labelsize=12)\nplt.rc('ytick', labelsize=12)\nplt.rc('legend', fontsize=12)\nplt.rc('figure', titlesize=12)\nplt.rc('pdf', fonttype=42)\nplt.rc('ps', fonttype=42)\nplt.rc('lines', linewidth=0.5)\nplt.rc('axes', linewidth=0.5)\nplt.rc('xtick.major', width=0.5)\nplt.rc('xtick.minor', width=0.5)\nplt.rc('ytick.major', width=0.5)\nplt.rc('ytick.minor', width=0.5)\ndpi = 150\n\nfig, ax = plt.subplots()\nax.semilogy(scattering_angles, phase_function,\n            label='Original phase function')\nax.semilogy(scattering_angles, hg_pf,\n            label='Fit H-G phase function')\nplt.legend()\nax.set_xlim(0, 180)\nax.set_ylim(10**-2, 10**4)\nax.set_xlabel('Scattering Angle [degrees]')\nax.set_ylabel('Phase Function')\nax.set_xticks(np.linspace(0, 180, num=180//30+1))\nax.set_xticks(np.linspace(0, 180, num=180//10+1), minor=True)\nplt.show()"
      ]
    }
  ],
  "metadata": {
    "kernelspec": {
      "display_name": "Python 3",
      "language": "python",
      "name": "python3"
    },
    "language_info": {
      "codemirror_mode": {
        "name": "ipython",
        "version": 3
      },
      "file_extension": ".py",
      "mimetype": "text/x-python",
      "name": "python",
      "nbconvert_exporter": "python",
      "pygments_lexer": "ipython3",
      "version": "3.9.10"
    }
  },
  "nbformat": 4,
  "nbformat_minor": 0
}