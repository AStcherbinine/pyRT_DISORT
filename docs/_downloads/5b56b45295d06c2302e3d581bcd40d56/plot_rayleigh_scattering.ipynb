{
  "cells": [
    {
      "cell_type": "code",
      "execution_count": null,
      "metadata": {
        "collapsed": false
      },
      "outputs": [],
      "source": [
        "%matplotlib inline"
      ]
    },
    {
      "cell_type": "markdown",
      "metadata": {},
      "source": [
        "\n# Rayleigh scattering\n\nPlot Rayleigh scattering optical depths\n"
      ]
    },
    {
      "cell_type": "markdown",
      "metadata": {},
      "source": [
        "First import everything needed for this example.\n\n"
      ]
    },
    {
      "cell_type": "code",
      "execution_count": null,
      "metadata": {
        "collapsed": false
      },
      "outputs": [],
      "source": [
        "import matplotlib.pyplot as plt\nimport numpy as np\nimport pyrt"
      ]
    },
    {
      "cell_type": "markdown",
      "metadata": {},
      "source": [
        "Rayleigh scattering depends on 2 factors: wavelength and column density.\nLet's create wavelengths to compute the column optical depth at.\n\n"
      ]
    },
    {
      "cell_type": "code",
      "execution_count": null,
      "metadata": {
        "collapsed": false
      },
      "outputs": [],
      "source": [
        "wavelengths = np.linspace(0.1, 1, num=100)"
      ]
    },
    {
      "cell_type": "markdown",
      "metadata": {},
      "source": [
        "Now let's make the column density. I'll assume the pressure profile decreases\nexponentially with altitude (with scale height of 10 km) and a constant\ntemperature profile. The column density function can compute column density\nfrom functions of pressure and temperature that are both dependent on\naltitude. The function's inputs go into the pressure and temperature args.\n\n"
      ]
    },
    {
      "cell_type": "code",
      "execution_count": null,
      "metadata": {
        "collapsed": false
      },
      "outputs": [],
      "source": [
        "altitude = np.linspace(100, 0, num=15)\ncolumn_density = pyrt.column_density(\n    pyrt.exponential_profile, pyrt.constant_profile, altitude, (610, 10), (150,))"
      ]
    },
    {
      "cell_type": "markdown",
      "metadata": {},
      "source": [
        "Now we can turn these into Rayleigh scattering optical depths.\n\n"
      ]
    },
    {
      "cell_type": "code",
      "execution_count": null,
      "metadata": {
        "collapsed": false
      },
      "outputs": [],
      "source": [
        "od = pyrt.rayleigh_co2_optical_depth(column_density, pyrt.wavenumber(wavelengths))\nprint(od.shape)"
      ]
    },
    {
      "cell_type": "markdown",
      "metadata": {},
      "source": [
        "These are the Rayleigh scattering optical depths in each layer at each\nwavelength. We just need to sum over the columns to get the column integrated\noptical depths.\n\n"
      ]
    },
    {
      "cell_type": "code",
      "execution_count": null,
      "metadata": {
        "collapsed": false
      },
      "outputs": [],
      "source": [
        "plt.rc('mathtext', fontset='stix')\nplt.rc('font', **{'family': 'STIXGeneral'})\nplt.rc('font', size=8)\nplt.rc('axes', titlesize=12)\nplt.rc('axes', labelsize=12)\nplt.rc('xtick', labelsize=12)\nplt.rc('ytick', labelsize=12)\nplt.rc('legend', fontsize=12)\nplt.rc('figure', titlesize=12)\nplt.rc('pdf', fonttype=42)\nplt.rc('ps', fonttype=42)\nplt.rc('lines', linewidth=0.5)\nplt.rc('axes', linewidth=0.5)\nplt.rc('xtick.major', width=0.5)\nplt.rc('xtick.minor', width=0.5)\nplt.rc('ytick.major', width=0.5)\nplt.rc('ytick.minor', width=0.5)\ndpi = 150\n\nfig, ax = plt.subplots()\nax.semilogy(wavelengths * 1000, np.sum(od, axis=0))\n\nax.set_xlim(100, 1000)\nax.set_ylim(10**-4, 10)\nax.set_xlabel('Wavelength [nm]')\nax.set_ylabel('Column integrated optical depth')\nax.set_xticks(np.linspace(100, 1000, num=1000//100))\nax.set_xticks(np.linspace(100, 1000, num=1000//50-1), minor=True)\nplt.show()"
      ]
    }
  ],
  "metadata": {
    "kernelspec": {
      "display_name": "Python 3",
      "language": "python",
      "name": "python3"
    },
    "language_info": {
      "codemirror_mode": {
        "name": "ipython",
        "version": 3
      },
      "file_extension": ".py",
      "mimetype": "text/x-python",
      "name": "python",
      "nbconvert_exporter": "python",
      "pygments_lexer": "ipython3",
      "version": "3.9.10"
    }
  },
  "nbformat": 4,
  "nbformat_minor": 0
}