{
  "cells": [
    {
      "cell_type": "code",
      "execution_count": null,
      "metadata": {
        "collapsed": false
      },
      "outputs": [],
      "source": [
        "%matplotlib inline"
      ]
    },
    {
      "cell_type": "markdown",
      "metadata": {},
      "source": [
        "\n# Phase Function Decomposition\n\nDecompose a phase function into Legendre coefficients.\n"
      ]
    },
    {
      "cell_type": "markdown",
      "metadata": {},
      "source": [
        "First import everything needed for this example.\n\n"
      ]
    },
    {
      "cell_type": "code",
      "execution_count": null,
      "metadata": {
        "collapsed": false
      },
      "outputs": [],
      "source": [
        "import matplotlib.pyplot as plt\nimport numpy as np\nimport pyrt"
      ]
    },
    {
      "cell_type": "markdown",
      "metadata": {},
      "source": [
        "Let's grab a phase function and the angles over which it's defined. The phase\nfunction has shape (181, 24, 317), where it's defined over 181 scattering\nangles, 24 particle sizes, and 317 wavelengths. For this example, let's just\npick the first one so we have an array to work with.\n\n"
      ]
    },
    {
      "cell_type": "code",
      "execution_count": null,
      "metadata": {
        "collapsed": false
      },
      "outputs": [],
      "source": [
        "dust_dir = '/home/kyle/repos/pyRT_DISORT/anc/mars_dust/'\nphase_function = np.load(dust_dir + 'phase_function.npy')[:, 0, 0]\nscattering_angles = np.load(dust_dir + 'scattering_angles.npy')\nprint(scattering_angles)"
      ]
    },
    {
      "cell_type": "markdown",
      "metadata": {},
      "source": [
        "Let's resample the phase function to increase its resolution to 361 points.\n\n"
      ]
    },
    {
      "cell_type": "code",
      "execution_count": null,
      "metadata": {
        "collapsed": false
      },
      "outputs": [],
      "source": [
        "phase_function, scattering_angles = \\\n        pyrt.resample(phase_function, scattering_angles, 361)"
      ]
    },
    {
      "cell_type": "markdown",
      "metadata": {},
      "source": [
        "We can now decompose the phase function. This method automatically normalizes\nthe phase function so we don't need to explicitly do that. Let's decompose it\ninto 129 moments (128 moments in addition to the zeroth moment, which is\nalways 1).\n\n"
      ]
    },
    {
      "cell_type": "code",
      "execution_count": null,
      "metadata": {
        "collapsed": false
      },
      "outputs": [],
      "source": [
        "lc = pyrt.decompose(phase_function, scattering_angles, 129)\nprint(lc)"
      ]
    },
    {
      "cell_type": "markdown",
      "metadata": {},
      "source": [
        "At index 7 the coefficient is negative, and it appears the coefficients\noscillate around 0 after this. Let's set these to 0.\n\n"
      ]
    },
    {
      "cell_type": "code",
      "execution_count": null,
      "metadata": {
        "collapsed": false
      },
      "outputs": [],
      "source": [
        "lc = pyrt.set_negative_coefficients_to_0(lc)"
      ]
    },
    {
      "cell_type": "markdown",
      "metadata": {},
      "source": [
        "We can test how well the fit did by converting back into a phase function.\nLet's do that and see how it performed.\n\n"
      ]
    },
    {
      "cell_type": "code",
      "execution_count": null,
      "metadata": {
        "collapsed": false
      },
      "outputs": [],
      "source": [
        "reconstructed_pf = pyrt.reconstruct(lc, scattering_angles)\n\nplt.rc('mathtext', fontset='stix')\nplt.rc('font', **{'family': 'STIXGeneral'})\nplt.rc('font', size=8)\nplt.rc('axes', titlesize=12)\nplt.rc('axes', labelsize=12)\nplt.rc('xtick', labelsize=12)\nplt.rc('ytick', labelsize=12)\nplt.rc('legend', fontsize=12)\nplt.rc('figure', titlesize=12)\nplt.rc('pdf', fonttype=42)\nplt.rc('ps', fonttype=42)\nplt.rc('lines', linewidth=0.5)\nplt.rc('axes', linewidth=0.5)\nplt.rc('xtick.major', width=0.5)\nplt.rc('xtick.minor', width=0.5)\nplt.rc('ytick.major', width=0.5)\nplt.rc('ytick.minor', width=0.5)\ndpi = 150\n\nfig, ax = plt.subplots()\nax.plot(scattering_angles, phase_function,\n        color='k',\n        label='Original phase function')\nax.plot(scattering_angles, reconstructed_pf,\n        color='r',\n        label='Reconstructed phase function',\n        linestyle='dotted')\nplt.legend()\nax.set_xlim(0, 180)\nax.set_xlabel('Scattering Angle [degrees]')\nax.set_ylabel('Phase Function')\nax.set_xticks(np.linspace(0, 180, num=180//30+1))\nax.set_xticks(np.linspace(0, 180, num=180//10+1), minor=True)\nplt.show()"
      ]
    }
  ],
  "metadata": {
    "kernelspec": {
      "display_name": "Python 3",
      "language": "python",
      "name": "python3"
    },
    "language_info": {
      "codemirror_mode": {
        "name": "ipython",
        "version": 3
      },
      "file_extension": ".py",
      "mimetype": "text/x-python",
      "name": "python",
      "nbconvert_exporter": "python",
      "pygments_lexer": "ipython3",
      "version": "3.9.10"
    }
  },
  "nbformat": 4,
  "nbformat_minor": 0
}